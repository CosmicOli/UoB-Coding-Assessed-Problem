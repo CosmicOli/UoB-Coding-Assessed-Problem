{
 "cells": [
  {
   "cell_type": "markdown",
   "id": "c2b5a5d0-eb1c-4c86-8493-304b913815f7",
   "metadata": {},
   "source": [
    "# Assessed Problems 2\n",
    "\n",
    "Each two week block has an associated assessed problems sheet. There are always two questions with equal weighting.\n",
    "\n",
    "- **Questions are marked in class by the demonstrators.** You can have multiple attempts and demonstrators will give you feedback on your approach. You can often solve the problem in multiple ways but you will need to reach a required standard to receive a pass. \n",
    "\n",
    "**It is expected that you attend all timetabled coding lab sessions assigned to you. This will assist in allowing enough time to speak to a demonstrator to get your attempts for questions graded.**\n",
    "\n",
    "You should also submit working code for each problem via the canvas upload link provided. This will be used as a record of your work, and for plaigiarism and validation checks."
   ]
  },
  {
   "cell_type": "markdown",
   "id": "6c91067e-b709-43df-8cd3-264c09bbd4f6",
   "metadata": {},
   "source": [
    "***\n",
    "\n",
    "## Q1) Fibonacci Numbers (1 mark)\n",
    "\n",
    "The fibonacci numbers are defined as\n",
    "\n",
    "\\begin{align}\n",
    "f_n &= f_{n-1} + f_{n-2}\\\\\n",
    "f_0 &= 0\\\\\n",
    "f_1 &= 1\n",
    "\\end{align}\n",
    "\n",
    "a) Write a code that generates the fibonacci numbers up to $n=20$. \n",
    "\n",
    "```\n",
    "n  0 1 2 3 4 5 6  7  8  9 10 11  12  13  14  15  16   17   18   19   20\n",
    "fn 0 1 1 2 3 5 8 13 21 34 55 89 144 233 377 610 987 1597 2584 4181 6765\n",
    "```\n",
    "\n",
    "b) The ratio $\\dfrac{f_n}{f_{n-1}}$ is known to converge to the golden ratio for increasing $n$. Calculate this value for $n=40$ and compare it to the golden ratio \n",
    "\n",
    "$$ \\phi = \\frac{1 + \\sqrt{5}}{2} $$"
   ]
  },
  {
   "cell_type": "code",
   "execution_count": 10,
   "id": "00a830df",
   "metadata": {},
   "outputs": [
    {
     "name": "stdout",
     "output_type": "stream",
     "text": [
      "For n = 0, f(n) = 0\n",
      "For n = 1, f(n) = 1\n",
      "For n = 2, f(n) = 1\n",
      "For n = 3, f(n) = 2\n",
      "For n = 4, f(n) = 3\n",
      "For n = 5, f(n) = 5\n",
      "For n = 6, f(n) = 8\n",
      "For n = 7, f(n) = 13\n",
      "For n = 8, f(n) = 21\n",
      "For n = 9, f(n) = 34\n",
      "For n = 10, f(n) = 55\n",
      "For n = 11, f(n) = 89\n",
      "For n = 12, f(n) = 144\n",
      "For n = 13, f(n) = 233\n",
      "For n = 14, f(n) = 377\n",
      "For n = 15, f(n) = 610\n",
      "For n = 16, f(n) = 987\n",
      "For n = 17, f(n) = 1597\n",
      "For n = 18, f(n) = 2584\n",
      "For n = 19, f(n) = 4181\n",
      "For n = 20, f(n) = 6765\n",
      "\n",
      "The estimate for the golden ratio using n = 40 is 1.6180339887498947\n",
      "The true value for the golden ratio is 1.618033988749895\n"
     ]
    }
   ],
   "source": [
    "import numpy as np;\n",
    "\n",
    "limit = 20;\n",
    "\n",
    "def fibonacciNumbersToLimit(limit): \n",
    "    n = 2;\n",
    "\n",
    "    fibonacciNumbers = [0, 1];\n",
    "\n",
    "    while (n <= limit):\n",
    "        fibonacciNumbers.append(fibonacciNumbers[n - 1] + fibonacciNumbers[n - 2]); \n",
    "        n += 1;\n",
    "\n",
    "    return fibonacciNumbers;\n",
    "\n",
    "    \n",
    "fibonacciNumbersTo20 = fibonacciNumbersToLimit(20);\n",
    "\n",
    "for i in range(0, len(fibonacciNumbersTo20)): \n",
    "    print(f\"For n = {i}, f(n) = {fibonacciNumbersTo20[i]}\");\n",
    "    \n",
    "    \n",
    "fibonacciNumbersTo40 = fibonacciNumbersToLimit(40);\n",
    "goldenRatioEstimate = fibonacciNumbersTo40[len(fibonacciNumbersTo40) - 1] / fibonacciNumbersTo40[len(fibonacciNumbersTo40) - 2];\n",
    "\n",
    "print(f\"\\nThe estimate for the golden ratio using n = 40 is {goldenRatioEstimate}\");\n",
    "\n",
    "goldenRatio = (1 + np.sqrt(5)) / 2;\n",
    "print(f\"The true value for the golden ratio is {goldenRatio}\");"
   ]
  },
  {
   "cell_type": "markdown",
   "id": "c9aaf09f-e285-4417-bd21-9ef1213df390",
   "metadata": {
    "tags": []
   },
   "source": [
    "***\n",
    "## Q2) Taylor series (1 mark)\n",
    "\n",
    "The Taylor series for $\\mathrm{e}^{x}$ is defined as\n",
    "\n",
    "$$\\mathrm{e}^{x} = \\displaystyle\\sum_{n=0}^{N} \\frac{x^n}{n!}$$\n",
    "\n",
    "- a) Using a while loop, calculate an approximation to $\\mathrm{e}^{0.5}$ for $N = 10$.\n",
    "- b) Calculate the $\\mathrm{e}^{0.5}$ from the `exp` function from the math library.\n",
    "- c) Calculate the relative error between the approximation and the `np.exp` function.\n",
    "\n",
    "$$ \\left| \\dfrac{f_{10} - \\mathrm{e}^{0.5} }{\\mathrm{e}^{0.5}} \\right|$$\n",
    "\n",
    "- d) What is the lowest value of $N$ which gives an error of $< 1\\%$.\n",
    "\n",
    "You may find the function `np.math.factorial(n)` useful.\n"
   ]
  },
  {
   "cell_type": "code",
   "execution_count": 11,
   "id": "a89a8f90",
   "metadata": {},
   "outputs": [
    {
     "name": "stdout",
     "output_type": "stream",
     "text": [
      "e to the half is approximately equal to 1.6487212706873655\n",
      "e to the half is equal to 1.6487212707001282\n",
      "The relative error is 7.740956599935954e-12\n",
      "The lowest value of N that gives an error less than 1% is 4\n"
     ]
    }
   ],
   "source": [
    "import math\n",
    "\n",
    "def approximateExp(x, N):\n",
    "    n = 0;\n",
    "    approximation = 0;\n",
    "    while (n <= N):\n",
    "        approximation += (x**n) / (math.factorial(n));\n",
    "        n += 1;\n",
    "    return approximation;\n",
    "\n",
    "approximationForNEquals10 = approximateExp(0.5, 10);\n",
    "print(f\"e to the half is approximately equal to {approximationForNEquals10}\");\n",
    "\n",
    "eToTheHalf = math.exp(0.5);\n",
    "print(f\"e to the half is equal to {eToTheHalf}\")\n",
    "\n",
    "def calculateRelativeError(approximation, eToTheX):\n",
    "    return abs((approximation - eToTheX) / eToTheX);\n",
    "\n",
    "relativeErrorForNEquals10 = calculateRelativeError(approximationForNEquals10, eToTheHalf);\n",
    "print(f\"The relative error is {relativeErrorForNEquals10}\")\n",
    "\n",
    "relativeError = 1;\n",
    "i = 1\n",
    "while (relativeError > 0.01):\n",
    "    relativeError = calculateRelativeError(approximateExp(0.5, i), eToTheHalf);\n",
    "    i += 1;\n",
    "\n",
    "print(f\"The lowest value of N that gives an error less than 1% is {i}\")"
   ]
  },
  {
   "cell_type": "markdown",
   "id": "6d2f0737-2a8d-4503-bd2b-31423da26631",
   "metadata": {},
   "source": [
    "***\n",
    "\n",
    "## Q3) Particle Identification (2 marks)\n",
    "\n",
    "When conducting collision experiments at particle colliders, it is important to be able to identify what particle have been created. This can be done by allowing the products to pass through a set of detectors. Particles react to each of these detectors differently. By looking at which detectors a particle has left a signal in, the nature of that particle can be determined. For example, a photon passes through the tracking chamber unnoticed, but it produces a signal in the E/M calorimeter, where all its energy is deposited. Below is a diagram that shows the response of a set of detecters to 8 different particles:\n",
    "<div>\n",
    "<img src=\"attachment:detector_table.png\" width=\"500\"/>\n",
    "</div>\n",
    "\n",
    "The particle types are (from top to bottom) electron, photon, proton, pion, neutron, lambda, muon, and neutrino. A solid line indicates that the particle is detected passing through that detector, while a dashed line means that the particle was not detected. A branching line shows where a particle deposits its energy, continuing no further. Muons produce small signals in all detectors. Neutrinos are not detected, but are deduced from energy and momentum conservation.\n",
    "\n",
    "Write a program that identifies a particle based on the reading from each of the 4 detectors. A detector will either have a signal or have no signal, so the result for each detector should be a simple true or false. Each detector reading should be input by the user. Include the name of the detector when asking for each input.\n",
    "\n",
    "Determine which particles may have been detected using conditional statements. Output the name of the particle(s) to the screen. **(1 mark)**\n",
    "\n",
    "If an unknown particle (i.e. the detections do not match any of the patterns above) has been detected, the program should also report this. **(1 mark)**\n",
    "\n",
    "### Notes\n",
    "- `True` and `False` can also be represented by `1` and `0` , respectively. It may be preferable to use these as the user input rather than `True` and `False` or even use `Yes` and `No` and evaluate the strings using an `if` statement\n",
    "- The particle depositing its energy also counts as a detection.\n",
    "- Remember to use `==` when you want to check if one variable is equal to another."
   ]
  },
  {
   "cell_type": "code",
   "execution_count": 12,
   "id": "126ff38d",
   "metadata": {},
   "outputs": [
    {
     "name": "stdout",
     "output_type": "stream",
     "text": [
      "Detected by the Tracking Chamber? (y/n)\n",
      "Detected by the E/M Calorimeter? (y/n)\n",
      "Detected by the Hadronic Calorimeter? (y/n)\n",
      "Detected by the Muon Detector? (y/n)\n",
      "This particle is a particle not in the list.\n"
     ]
    }
   ],
   "source": [
    "detectorPings = [];\n",
    "\n",
    "def detectorInput(question):\n",
    "    validatingInput = True;\n",
    "\n",
    "    while (validatingInput):\n",
    "            print(question);\n",
    "            detectorInput = input();\n",
    "            \n",
    "            if (detectorInput != 'y' and detectorInput != 'n'):\n",
    "                print(\"Please enter either y or n.\");\n",
    "                continue;\n",
    "\n",
    "            validatingInput = False;\n",
    "            detectorPings.append(detectorInput);\n",
    "\n",
    "\n",
    "detectorInput(\"Detected by the Tracking Chamber? (y/n)\");\n",
    "\n",
    "detectorInput(\"Detected by the E/M Calorimeter? (y/n)\");\n",
    "\n",
    "detectorInput(\"Detected by the Hadronic Calorimeter? (y/n)\")\n",
    "\n",
    "detectorInput(\"Detected by the Muon Detector? (y/n)\")\n",
    "\n",
    "particleName = \"\";\n",
    "match detectorPings:\n",
    "    case ['y','y','n','n']:\n",
    "        particleName = \"electron\";\n",
    "    case ['n','y','n','n']:\n",
    "        particleName = \"photon\";\n",
    "    case ['y','y','y','n']:\n",
    "        particleName = \"proton or pion\";\n",
    "    case ['n','n','y','n']:\n",
    "        particleName = \"neutron or lambda\";\n",
    "    case ['y','y','y','y']:\n",
    "        particleName = \"muon\";\n",
    "    case ['n','n','n','n']:\n",
    "        particleName = \"neutrino\";\n",
    "    case _:\n",
    "        particleName = \"particle not in the list\"\n",
    "\n",
    "print(f\"This particle is a {particleName}.\");"
   ]
  }
 ],
 "metadata": {
  "kernelspec": {
   "display_name": "Python 3 (ipykernel)",
   "language": "python",
   "name": "python3"
  },
  "language_info": {
   "codemirror_mode": {
    "name": "ipython",
    "version": 3
   },
   "file_extension": ".py",
   "mimetype": "text/x-python",
   "name": "python",
   "nbconvert_exporter": "python",
   "pygments_lexer": "ipython3",
   "version": "3.10.0"
  }
 },
 "nbformat": 4,
 "nbformat_minor": 5
}
