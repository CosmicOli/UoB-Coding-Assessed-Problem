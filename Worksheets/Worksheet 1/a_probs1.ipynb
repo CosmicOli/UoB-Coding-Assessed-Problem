{
 "cells": [
  {
   "cell_type": "markdown",
   "id": "e43e14af-9555-43bf-818c-e65edb194d02",
   "metadata": {},
   "source": [
    "# Assessed Problems 1\n",
    "\n",
    "Each two week block has an associated assessed problems sheet. There are always two questions with equal weighting.\n",
    "\n",
    "- **All questions are marked in class by the demonstrators and can be completed in the blank assessed problems submission notebook.** You can have multiple attempts and demonstrators will give you feedback on your approach. You can often solve the problem in multiple ways but you will need to reach a required standard to receive a pass.\n",
    "\n",
    "**It is expected that you attend all timetabled coding lab sessions assigned to you. This will assist in allowing enough time to speak to a demonstrator to get your attempt for questions graded.**\n",
    "\n",
    "You should also submit working code for each problem via the canvas upload link provided. This will be used as a record of your work, and for plagiarism and validation checks for questions. As per the introductionary notes, while coding can benefit from the input of your peers, your work should be almost entirely your own as plagiarism is not acceptable."
   ]
  },
  {
   "cell_type": "markdown",
   "id": "a45ad270-cc04-4f80-b86c-87c86944e7a0",
   "metadata": {},
   "source": [
    "***\n",
    "\n",
    "## Q1) Python as a calculator\n",
    "\n",
    "Arithmetic operators and elementary math functions are described in the supporting lesson material. \n",
    "\n",
    "Evaluate the following expressions:\n",
    "\n",
    "$$\n",
    "\\begin{aligned}\n",
    "& 2 \\pi, \\frac{\\pi}{2}, \\pi^2, \\sqrt{\\pi} \\\\\n",
    "& i^2, \\sqrt{-1+0i}, \\log _e 2, \\log _{10} 100, \\\\\n",
    "& (\\sin (\\pi / 4)+\\cos (\\pi / 4))^2, \\\\\n",
    "& e^{i \\pi}+1\n",
    "\\end{aligned}\n",
    "$$\n"
   ]
  },
  {
   "cell_type": "code",
   "execution_count": 15,
   "id": "952f7c7a",
   "metadata": {},
   "outputs": [
    {
     "name": "stdout",
     "output_type": "stream",
     "text": [
      "6.283185307179586\n",
      "1.5707963267948966\n",
      "9.869604401089358\n",
      "1.7724538509055159\n",
      "(-1+0j)\n",
      "1j\n",
      "0.6931471805599453\n",
      "2.0\n",
      "2.0000000000000004\n",
      "1.2246467991473532e-16j\n"
     ]
    }
   ],
   "source": [
    "import numpy as np\n",
    "\n",
    "# 2 pi\n",
    "print(2 * np.pi)\n",
    "\n",
    "# pi divided by 2\n",
    "print(np.pi / 2)\n",
    "\n",
    "# pi squared\n",
    "print(np.pi ** 2)\n",
    "\n",
    "# square root of pi\n",
    "print(np.sqrt(np.pi))\n",
    "\n",
    "# i squared\n",
    "print(1j ** 2)\n",
    "\n",
    "# square root of -1\n",
    "print(np.sqrt(-1 +0j))\n",
    "\n",
    "# natural log of 2\n",
    "print(np.log(2))\n",
    "\n",
    "# log base 10 of 100\n",
    "print(np.log10(100))\n",
    "\n",
    "# (sin(pi/4) + cos(pi/4)) squared\n",
    "print((np.sin(np.pi/4) + np.cos(np.pi/4)) ** 2)\n",
    "\n",
    "# (e to the power of i * pi) plus 1\n",
    "print(np.e ** (1j * np.pi) + 1)"
   ]
  },
  {
   "cell_type": "markdown",
   "id": "673873e6-35fd-45c5-804f-c678ef8af461",
   "metadata": {},
   "source": [
    "***\n",
    "\n",
    "## Q2) Variables \n",
    "\n",
    "In this exercise, you are required to evaluate the total energy of an object with rest mass $m$ and velocity $v$ using the formula here below:\n",
    "\n",
    "$$\n",
    "E=\\frac{m c^2}{\\sqrt{1-\\frac{v^2}{c^2}}}\n",
    "$$\n",
    "\n",
    "where $\\mathrm{c}$ is the velocity of light. First, define variables $\\mathrm{m}, \\mathrm{v}$ and $\\mathrm{c}$ with the values $1 \\mathrm{kg}, 1 \\mathrm{x}$ $10^8 \\mathrm{~m} / \\mathrm{s}$ and $3 \\times 10^8 \\mathrm{~m} / \\mathrm{s}$, then compute $E$."
   ]
  },
  {
   "cell_type": "code",
   "execution_count": 18,
   "id": "57cfb76b",
   "metadata": {},
   "outputs": [
    {
     "name": "stdout",
     "output_type": "stream",
     "text": [
      "9.545941546018392e+16\n"
     ]
    }
   ],
   "source": [
    "import numpy as np\n",
    "m = 1\n",
    "v = 1 * 10**8\n",
    "c = 3 * 10**8\n",
    "\n",
    "E = m * c**2 / np.sqrt(1 - (v**2 / c**2))\n",
    "\n",
    "print(E)"
   ]
  },
  {
   "cell_type": "markdown",
   "id": "2ef88d12-c424-4dfb-98cd-3b6972426ed6",
   "metadata": {},
   "source": [
    "***\n",
    "##  Q3) Solutions to a quadratic equation\n",
    "\n",
    "Given the quadratic equation\n",
    "\n",
    "$$ 5 x^2 + 29x + 2 = 0$$\n",
    "\n",
    "and the formula for the roots\n",
    "\n",
    "$$ x = \\frac{-b \\pm \\sqrt{b^2 -  4 a c}}{2a}.$$\n",
    "\n",
    "a) Write python code to find the two values of $x$.\n",
    "\n",
    "b) Evalute the polynomial to check they are both solutions.\n"
   ]
  },
  {
   "cell_type": "code",
   "execution_count": 23,
   "id": "7b7af097",
   "metadata": {},
   "outputs": [
    {
     "name": "stdout",
     "output_type": "stream",
     "text": [
      "The solutions are -0.06980566038301887 -5.730194339616981\n",
      "Evaluating where -0.06980566038301887 is x, y = -4.440892098500626e-16\n",
      "Evaluating where -5.730194339616981 is x, y = 0.0\n"
     ]
    }
   ],
   "source": [
    "import numpy as np\n",
    "a = 5\n",
    "b = 29\n",
    "c = 2\n",
    "\n",
    "x1 = (-1 * b + np.sqrt(b**2 - 4 * a * c)) / (2 * a)\n",
    "x2 = (-1 * b - np.sqrt(b**2 - 4 * a * c)) / (2 * a)\n",
    "\n",
    "print(f\"The solutions are {x1} {x2}\")\n",
    "\n",
    "def checkSolution(a, b, c, x):\n",
    "    y = a * x**2 + b * x + c\n",
    "    print(f\"Evaluating where {x} is x, y = {y}\")\n",
    "    \n",
    "checkSolution(a, b, c, x1)\n",
    "checkSolution(a, b, c, x2)"
   ]
  },
  {
   "cell_type": "code",
   "execution_count": null,
   "id": "1ecb5308",
   "metadata": {},
   "outputs": [],
   "source": []
  }
 ],
 "metadata": {
  "kernelspec": {
   "display_name": "Python 3 (ipykernel)",
   "language": "python",
   "name": "python3"
  },
  "language_info": {
   "codemirror_mode": {
    "name": "ipython",
    "version": 3
   },
   "file_extension": ".py",
   "mimetype": "text/x-python",
   "name": "python",
   "nbconvert_exporter": "python",
   "pygments_lexer": "ipython3",
   "version": "3.10.11"
  }
 },
 "nbformat": 4,
 "nbformat_minor": 5
}
