{
 "cells": [
  {
   "attachments": {
    "rot13.png": {
     "image/png": "[encoded data removed]"
    }
   },
   "cell_type": "markdown",
   "id": "649c2ec7",
   "metadata": {},
   "source": [
    "# Question 1: Cryptography dicts [2 marks]\n",
    "\n",
    "Rot13 is a very basic substitution cipher where each letter is replaced by the letter 13 away. a becomes n, b becomes o, c becomes p..... x becomes k, y becomes l and z becomes m.\n",
    "\n",
    "![rot13.png](attachment:rot13.png)\n",
    "\n",
    "- Write a code that builds a dict that translates from a letter to the corresponding letter in ROT13 using list comprehension (see above diagram). The function chr() may be useful which translates numbers to letters using ASCII (https://en.wikipedia.org/wiki/ASCII). chr(97) = a, chr(98) = b... [1 mark]\n",
    "- Translate the following passcode: ariretbaantvirlbhhcariretbaanyrglbhqbja using ROT13 [1 mark]"
   ]
  },
  {
   "cell_type": "code",
   "execution_count": 26,
   "id": "b14a491a",
   "metadata": {},
   "outputs": [
    {
     "name": "stdout",
     "output_type": "stream",
     "text": [
      "nevergonnagiveyouupnevergonnaletyoudown\n"
     ]
    }
   ],
   "source": [
    "rot13= {chr(l + 65 + 6 * ((l + 1)//27)):((l + 13) % 26 + 65 + 32 * ((l + 1)//27)) for l in range(0, 52)};\n",
    "\n",
    "# This defines the original string and it's encoded variant\n",
    "string = \"ariretbaantvirlbhhcariretbaanyrglbhqbja\";\n",
    "encodedString = \"\";\n",
    "\n",
    "# This changes every character in the original string to the translated character, dependant on it's case\n",
    "for character in string:\n",
    "    encodedString = encodedString + chr(rot13[character]);\n",
    "\n",
    "# Prints final \n",
    "print(encodedString)"
   ]
  },
  {
   "cell_type": "markdown",
   "id": "e710959d",
   "metadata": {},
   "source": [
    "# Question 2 Fast Integration [3 marks]\n",
    "\n",
    "\n",
    "- Numerically integrate the following function using an appropriate method and count the time taken (__Not using the built-in Python functions__). Ensure the computation takes < 1 millisecond. The analytical answer is not given but should be small (~ -0.001), you can use the `quad` function to check you get a consistent answer. Note that the argument of the sign includes an x to the power of x! [2 marks]\n",
    "\n",
    "$$ \\int_{0}^{1} x^2 \\cdot\\cos\\left(100\\pi x^x \\right) \\, dx $$\n",
    "\n",
    "- Why did you use this method? What is the advantage/disadvantage? (Just write this out in a markdown cell block, 1 or 2 sentences explaining your choice.) [1 mark]\n"
   ]
  },
  {
   "cell_type": "code",
   "execution_count": null,
   "id": "2938106f",
   "metadata": {},
   "outputs": [
    {
     "name": "stdout",
     "output_type": "stream",
     "text": [
      "Output:-0.000944388373132871\n",
      "Time (ms):0.30742330000794027\n"
     ]
    }
   ],
   "source": [
    "import numpy as np;\n",
    "import timeit;\n",
    "\n",
    "def f(x):\n",
    "    return np.multiply(np.power(x, 2), np.cos(np.multiply(np.multiply(100, np.pi), np.power(x, x))));\n",
    "\n",
    "def integralApproximation(f, a, b, n):\n",
    "    h = np.multiply(np.sum(b, -a), 1 / n);\n",
    "    \n",
    "    sumPoints = np.linspace(a, b, n);\n",
    "\n",
    "    sumPoints = f(sumPoints);\n",
    "\n",
    "    rectangleAreas = np.multiply(sumPoints, h);\n",
    "\n",
    "    return np.sum(rectangleAreas);\n",
    "\n",
    "timeFunction = lambda: integralApproximation(f, 0, 1, 10000);\n",
    "\n",
    "output = timeFunction();\n",
    "\n",
    "print(\"Output:\" + str(output));\n",
    "\n",
    "print(\"Time (ms):\" + str(timeit.timeit(timeFunction, number = 1000)));\n",
    "\n",
    "# This is the standard sum of rectangles area x * dx method\n",
    "# This is simple and hence requires very little time to get an answer\n",
    "# Due to it's simplicity however, it may be less accurate in a similar computation time on more complicated or eratic functions"
   ]
  },
  {
   "cell_type": "markdown",
   "id": "cf357174",
   "metadata": {},
   "source": [
    "# Question 3 Volume of 10-D sphere [2 marks]\n",
    "\n",
    "- Calculate the volume of a sphere with radius 1 in ten dimensions. Hint: Worksheet 6 non-assessed problems may be helpful. [2 marks]"
   ]
  },
  {
   "cell_type": "code",
   "execution_count": 70,
   "id": "a5d0b870",
   "metadata": {},
   "outputs": [
    {
     "name": "stdout",
     "output_type": "stream",
     "text": [
      "2.582528\n"
     ]
    }
   ],
   "source": [
    "import numpy as np;\n",
    "import time;\n",
    "\n",
    "seed = time.time_ns();\n",
    "rng = np.random.default_rng(seed);\n",
    "\n",
    "def createRandomCoordinate(dimensionCount):\n",
    "    return rng.random(dimensionCount);\n",
    "\n",
    "def checkIfInSphere(coordinate, radius):\n",
    "    total = 0;\n",
    "    for scalar in coordinate:\n",
    "        total += scalar**2;\n",
    "\n",
    "    return (total <= radius**2)\n",
    "\n",
    "# The number of dimensions\n",
    "dimensionCount = 10;\n",
    "\n",
    "# The length of each dimension in units\n",
    "radius = 1;\n",
    "\n",
    "# Number of points to be randomly generated and checked\n",
    "numberOfPoints = 500000;\n",
    "\n",
    "count = 0;\n",
    "\n",
    "# Checks numberOfPoints number of points to find approximately how many are in the sphere\n",
    "for i in range(0, numberOfPoints):\n",
    "    if (checkIfInSphere(createRandomCoordinate(dimensionCount), radius)):\n",
    "        count += 1;\n",
    "\n",
    "# Calculates volume from count\n",
    "volume = (2 * radius) ** dimensionCount * count / numberOfPoints;\n",
    "\n",
    "print(volume);"
   ]
  },
  {
   "cell_type": "markdown",
   "id": "19f44621",
   "metadata": {},
   "source": [
    "# Question 4 [3 marks]\n",
    "\n",
    "Use SymPy to calculate the following:\n",
    "\n",
    "* $$ \\frac{d^2}{dx dy} e^{ax+y} \\sin(2x+y) x $$\n",
    "\n",
    "* $$ \\int_{-b}^{b} dx \\int_{-b}^{b} dy \\, \\, \\, e^{-(x^2+y^2)/(2\\sigma^2)} $$\n",
    "\n",
    "* $$ \\lim_{x \\rightarrow 1} \\frac{\\sqrt[3]{x}-1}{\\sqrt{x}-1} $$"
   ]
  },
  {
   "cell_type": "code",
   "execution_count": 71,
   "id": "166e81c1",
   "metadata": {},
   "outputs": [],
   "source": [
    "from sympy import *;\n",
    "\n",
    "x, y, a, b, sigma = symbols('x y a b sigma');"
   ]
  },
  {
   "cell_type": "code",
   "execution_count": 72,
   "id": "8483d6fc",
   "metadata": {},
   "outputs": [
    {
     "data": {
      "text/latex": [
       "$\\displaystyle a x e^{a x + y} \\sin{\\left(2 x + y \\right)} + a x e^{a x + y} \\cos{\\left(2 x + y \\right)} - 2 x e^{a x + y} \\sin{\\left(2 x + y \\right)} + 2 x e^{a x + y} \\cos{\\left(2 x + y \\right)} + e^{a x + y} \\sin{\\left(2 x + y \\right)} + e^{a x + y} \\cos{\\left(2 x + y \\right)}$"
      ],
      "text/plain": [
       "a*x*exp(a*x + y)*sin(2*x + y) + a*x*exp(a*x + y)*cos(2*x + y) - 2*x*exp(a*x + y)*sin(2*x + y) + 2*x*exp(a*x + y)*cos(2*x + y) + exp(a*x + y)*sin(2*x + y) + exp(a*x + y)*cos(2*x + y)"
      ]
     },
     "execution_count": 72,
     "metadata": {},
     "output_type": "execute_result"
    }
   ],
   "source": [
    "diff(diff(exp(a*x + y) * sin(2*x + y) * x, y), x)"
   ]
  },
  {
   "cell_type": "code",
   "execution_count": 73,
   "id": "09457ba4",
   "metadata": {},
   "outputs": [
    {
     "data": {
      "text/latex": [
       "$\\displaystyle 2 \\pi \\sigma^{2} \\operatorname{erf}^{2}{\\left(\\frac{\\sqrt{2} b \\sqrt{\\frac{1}{\\sigma^{2}}}}{2} \\right)}$"
      ],
      "text/plain": [
       "2*pi*sigma**2*erf(sqrt(2)*b*sqrt(sigma**(-2))/2)**2"
      ]
     },
     "execution_count": 73,
     "metadata": {},
     "output_type": "execute_result"
    }
   ],
   "source": [
    "integrate(integrate(exp(-(x**2 + y**2) / (2 * sigma**2)), (y, -b, b)), (x, -b, b))"
   ]
  },
  {
   "cell_type": "code",
   "execution_count": 74,
   "id": "fd8db69e",
   "metadata": {},
   "outputs": [
    {
     "data": {
      "text/latex": [
       "$\\displaystyle \\frac{2}{3}$"
      ],
      "text/plain": [
       "2/3"
      ]
     },
     "execution_count": 74,
     "metadata": {},
     "output_type": "execute_result"
    }
   ],
   "source": [
    "limit((x**(1/3) - 1) / (x**(1/2) - 1), x, 1)"
   ]
  }
 ],
 "metadata": {
  "kernelspec": {
   "display_name": "Python 3 (ipykernel)",
   "language": "python",
   "name": "python3"
  },
  "language_info": {
   "codemirror_mode": {
    "name": "ipython",
    "version": 3
   },
   "file_extension": ".py",
   "mimetype": "text/x-python",
   "name": "python",
   "nbconvert_exporter": "python",
   "pygments_lexer": "ipython3",
   "version": "3.10.11"
  }
 },
 "nbformat": 4,
 "nbformat_minor": 5
}
